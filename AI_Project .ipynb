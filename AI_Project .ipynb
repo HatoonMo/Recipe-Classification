{
 "cells": [
  {
   "cell_type": "markdown",
   "metadata": {},
   "source": [
    "# Recipe Diet Classification from Ingredients\n",
    "\n",
    "this project goal is to classify diets based on the recipe ingredients.\n",
    "\n",
    "the following steps are made to solve this problem\n",
    "* 1- loading the dataset from a json file DietDS.json\n",
    "* 2- clean dataset ingredient colmn using regex by removing \n",
    "        - punctuation, digits, stop words, brand names\n",
    "* 3- encoding the feature column using TfidfVectorizer( which Convert a collection of raw documents to a matrix of TF-IDF features).\n",
    "* 4- Split the data to (X-TFIDF Matrix, Y-Label value of Diet into training and test data(70:30).\n",
    "* 5- preform Knn machine learning algorithm to get an accurecy "
   ]
  },
  {
   "cell_type": "code",
   "execution_count": 38,
   "metadata": {},
   "outputs": [],
   "source": [
    "\n",
    "# import needed libraries\n",
    "import json\n",
    "from nltk.corpus import stopwords\n",
    "from nltk.tokenize import word_tokenize\n",
    "from nltk.tokenize import sent_tokenize, word_tokenize\n",
    "from nltk.stem import PorterStemmer\n",
    "import pandas as pd\n",
    "import re\n",
    "# import for KNN\n",
    "import numpy as np\n",
    "from sklearn.model_selection import train_test_split\n",
    "from sklearn.neighbors import KNeighborsClassifier\n",
    "from sklearn.metrics import accuracy_score\n",
    "from sklearn.feature_extraction.text import TfidfVectorizer"
   ]
  },
  {
   "cell_type": "code",
   "execution_count": 91,
   "metadata": {
    "scrolled": true
   },
   "outputs": [
    {
     "name": "stdout",
     "output_type": "stream",
     "text": [
      "      id  diet                                        ingredients\n",
      "0  10259     0  romaine lettuce,black olives,grape tomatoes,ga...\n",
      "1  25693     0  plain flour,ground pepper,salt,tomatoes,ground...\n",
      "2  20130     0  eggs,pepper,salt,mayonaise,cooking oil,green c...\n",
      "3  22213     1                     water,vegetable oil,wheat,salt\n",
      "4  13162     0  black pepper,shallots,cornflour,cayenne pepper...\n"
     ]
    }
   ],
   "source": [
    "# LOAD DATA \n",
    "ps = PorterStemmer()\n",
    "dataset_file = r'DietDS.json'\n",
    "with open(dataset_file) as train_file:\n",
    "    dict_train = json.load(train_file)\n",
    "\n",
    "id_ = []\n",
    "cuisine=[]\n",
    "ingredients = []\n",
    "for i in range(len(dict_train)):\n",
    "    id_.append(dict_train[i]['id'])  \n",
    "    cuisine.append(dict_train[i]['diet'])\n",
    "    ingredients.append(dict_train[i]['ingredients'])\n",
    "    \n",
    "df = pd.DataFrame({'id':id_, \n",
    "                   'diet': cuisine,\n",
    "                   'ingredients':ingredients})\n",
    "print(df.head(5))"
   ]
  },
  {
   "cell_type": "code",
   "execution_count": 92,
   "metadata": {},
   "outputs": [
    {
     "data": {
      "text/plain": [
       "0    823\n",
       "1    176\n",
       "Name: diet, dtype: int64"
      ]
     },
     "execution_count": 92,
     "metadata": {},
     "output_type": "execute_result"
    }
   ],
   "source": [
    "df['diet'].value_counts()"
   ]
  },
  {
   "cell_type": "code",
   "execution_count": 99,
   "metadata": {
    "scrolled": true
   },
   "outputs": [
    {
     "name": "stdout",
     "output_type": "stream",
     "text": [
      "      id  diet                                        ingredients  \\\n",
      "0  10259     0  romaine lettuce,black olives,grape tomatoes,ga...   \n",
      "1  25693     0  plain flour,ground pepper,salt,tomatoes,ground...   \n",
      "2  20130     0  eggs,pepper,salt,mayonaise,cooking oil,green c...   \n",
      "\n",
      "                                                 ing  \\\n",
      "0  romaine lettuce black olives grape tomatoes ga...   \n",
      "1  plain flour ground pepper salt tomatoes ground...   \n",
      "2  eggs pepper salt mayonaise cooking oil green c...   \n",
      "\n",
      "                                             ing_mod  \n",
      "0  romain lettuc black oliv grape tomato garlic p...  \n",
      "1  plain flour ground pepper salt tomato ground b...  \n",
      "2  egg pepper salt mayonais cook oil green chili ...  \n"
     ]
    }
   ],
   "source": [
    "#remove punctuation \n",
    "df['ing']=df['ingredients'].str.replace('[^\\w\\s]',' ')\n",
    "\n",
    "\n",
    "l=[]\n",
    "for s in df['ing']:\n",
    "    #Remove Stop Words    \n",
    "    stop_words = set(stopwords.words('english'))\n",
    "    word_tokens = word_tokenize(s)\n",
    "    filtered_sentence = [w for w in word_tokens if not w in stop_words]\n",
    "    filtered_sentence = []\n",
    "    for w in word_tokens:\n",
    "        if w not in stop_words:\n",
    "            filtered_sentence.append(w)\n",
    "    s=' '.join(filtered_sentence)\n",
    "    \n",
    "    #Remove low-content adjectives   \n",
    "    \n",
    "    #Porter Stemmer Algorithm\n",
    "    words = word_tokenize(s)\n",
    "    word_ps=[]\n",
    "    for w in words:\n",
    "        word_ps.append(ps.stem(w))\n",
    "    s=' '.join(word_ps)    \n",
    "    l.append(s)\n",
    "df['ing_mod']=l\n",
    "\n",
    "print(df.head(3))"
   ]
  },
  {
   "cell_type": "code",
   "execution_count": 100,
   "metadata": {},
   "outputs": [],
   "source": [
    "vectorizer = TfidfVectorizer()\n",
    "X = vectorizer.fit_transform(df['ing_mod'])"
   ]
  },
  {
   "cell_type": "code",
   "execution_count": 101,
   "metadata": {},
   "outputs": [],
   "source": [
    "Y=[]\n",
    "Y = df['diet']"
   ]
  },
  {
   "cell_type": "code",
   "execution_count": 102,
   "metadata": {},
   "outputs": [],
   "source": [
    "X_train, X_test, y_train, y_test = train_test_split(X, Y, test_size = 0.2, random_state = 100)"
   ]
  },
  {
   "cell_type": "code",
   "execution_count": 103,
   "metadata": {},
   "outputs": [
    {
     "name": "stdout",
     "output_type": "stream",
     "text": [
      "Accuracy is  78.5 % for K: 1\n",
      "Accuracy is  82.5 % for K: 2\n",
      "Accuracy is  82.5 % for K: 3\n",
      "Accuracy is  82.5 % for K: 4\n",
      "Accuracy is  80.0 % for K: 5\n",
      "Accuracy is  81.5 % for K: 6\n",
      "Accuracy is  83.0 % for K: 7\n",
      "Accuracy is  82.5 % for K: 8\n",
      "Accuracy is  83.0 % for K: 9\n",
      "Accuracy is  81.5 % for K: 10\n",
      "Accuracy is  83.0 % for K: 11\n",
      "Accuracy is  81.0 % for K: 12\n",
      "Accuracy is  81.5 % for K: 13\n",
      "Accuracy is  80.5 % for K: 14\n",
      "Accuracy is  82.0 % for K: 15\n",
      "Accuracy is  81.0 % for K: 16\n",
      "Accuracy is  81.0 % for K: 17\n",
      "Accuracy is  80.5 % for K: 18\n",
      "Accuracy is  80.5 % for K: 19\n",
      "Accuracy is  80.5 % for K: 20\n"
     ]
    }
   ],
   "source": [
    "for k in range(20):\n",
    "    K = k+1\n",
    "    neigh = KNeighborsClassifier(n_neighbors = K, weights='uniform', algorithm='auto')\n",
    "    neigh.fit(X_train, y_train) \n",
    " \n",
    "    y_pred = neigh.predict(X_test)\n",
    "    print(\"Accuracy is \", accuracy_score(y_test,y_pred)*100,\"% for K:\",K)"
   ]
  },
  {
   "cell_type": "code",
   "execution_count": null,
   "metadata": {},
   "outputs": [],
   "source": []
  }
 ],
 "metadata": {
  "kernelspec": {
   "display_name": "Python 3",
   "language": "python",
   "name": "python3"
  },
  "language_info": {
   "codemirror_mode": {
    "name": "ipython",
    "version": 3
   },
   "file_extension": ".py",
   "mimetype": "text/x-python",
   "name": "python",
   "nbconvert_exporter": "python",
   "pygments_lexer": "ipython3",
   "version": "3.6.6"
  }
 },
 "nbformat": 4,
 "nbformat_minor": 2
}
